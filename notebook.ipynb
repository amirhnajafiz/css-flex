{
 "cells": [
  {
   "cell_type": "code",
   "execution_count": 6,
   "metadata": {},
   "outputs": [],
   "source": [
    "# notebook variables\n",
    "GROUP_A=\"normal-stats.26714\"\n",
    "GROUP_B=\"normal-stats.26714\"\n",
    "\n",
    "P_VALUE_BOUND = 0.05"
   ]
  },
  {
   "cell_type": "code",
   "execution_count": 7,
   "metadata": {},
   "outputs": [],
   "source": [
    "# import in-use libraries\n",
    "import pandas as pd\n",
    "from scipy.stats import ttest_ind"
   ]
  },
  {
   "cell_type": "code",
   "execution_count": 8,
   "metadata": {},
   "outputs": [
    {
     "data": {
      "text/html": [
       "<div>\n",
       "<style scoped>\n",
       "    .dataframe tbody tr th:only-of-type {\n",
       "        vertical-align: middle;\n",
       "    }\n",
       "\n",
       "    .dataframe tbody tr th {\n",
       "        vertical-align: top;\n",
       "    }\n",
       "\n",
       "    .dataframe thead th {\n",
       "        text-align: right;\n",
       "    }\n",
       "</style>\n",
       "<table border=\"1\" class=\"dataframe\">\n",
       "  <thead>\n",
       "    <tr style=\"text-align: right;\">\n",
       "      <th></th>\n",
       "      <th>pub-stats</th>\n",
       "      <th>sub-stats</th>\n",
       "      <th>overall-stats</th>\n",
       "    </tr>\n",
       "  </thead>\n",
       "  <tbody>\n",
       "    <tr>\n",
       "      <th>0</th>\n",
       "      <td>35.52</td>\n",
       "      <td>534.03</td>\n",
       "      <td>568.23</td>\n",
       "    </tr>\n",
       "    <tr>\n",
       "      <th>1</th>\n",
       "      <td>36.84</td>\n",
       "      <td>553.35</td>\n",
       "      <td>589.04</td>\n",
       "    </tr>\n",
       "    <tr>\n",
       "      <th>2</th>\n",
       "      <td>34.60</td>\n",
       "      <td>519.90</td>\n",
       "      <td>553.10</td>\n",
       "    </tr>\n",
       "    <tr>\n",
       "      <th>3</th>\n",
       "      <td>36.25</td>\n",
       "      <td>544.74</td>\n",
       "      <td>579.62</td>\n",
       "    </tr>\n",
       "    <tr>\n",
       "      <th>4</th>\n",
       "      <td>28.47</td>\n",
       "      <td>427.42</td>\n",
       "      <td>455.20</td>\n",
       "    </tr>\n",
       "  </tbody>\n",
       "</table>\n",
       "</div>"
      ],
      "text/plain": [
       "   pub-stats  sub-stats  overall-stats\n",
       "0      35.52     534.03         568.23\n",
       "1      36.84     553.35         589.04\n",
       "2      34.60     519.90         553.10\n",
       "3      36.25     544.74         579.62\n",
       "4      28.47     427.42         455.20"
      ]
     },
     "execution_count": 8,
     "metadata": {},
     "output_type": "execute_result"
    }
   ],
   "source": [
    "# read csv to create groups datasets\n",
    "dfA = pd.read_csv(f'tmp/{GROUP_A}/dataset.csv')\n",
    "dfB = pd.read_csv(f'tmp/{GROUP_A}/dataset.csv')\n",
    "\n",
    "dfA.head()"
   ]
  },
  {
   "cell_type": "code",
   "execution_count": 9,
   "metadata": {},
   "outputs": [
    {
     "data": {
      "text/html": [
       "<div>\n",
       "<style scoped>\n",
       "    .dataframe tbody tr th:only-of-type {\n",
       "        vertical-align: middle;\n",
       "    }\n",
       "\n",
       "    .dataframe tbody tr th {\n",
       "        vertical-align: top;\n",
       "    }\n",
       "\n",
       "    .dataframe thead th {\n",
       "        text-align: right;\n",
       "    }\n",
       "</style>\n",
       "<table border=\"1\" class=\"dataframe\">\n",
       "  <thead>\n",
       "    <tr style=\"text-align: right;\">\n",
       "      <th></th>\n",
       "      <th>pub-stats</th>\n",
       "      <th>sub-stats</th>\n",
       "      <th>overall-stats</th>\n",
       "    </tr>\n",
       "  </thead>\n",
       "  <tbody>\n",
       "    <tr>\n",
       "      <th>count</th>\n",
       "      <td>20.0000</td>\n",
       "      <td>20.000000</td>\n",
       "      <td>20.000000</td>\n",
       "    </tr>\n",
       "    <tr>\n",
       "      <th>mean</th>\n",
       "      <td>35.3445</td>\n",
       "      <td>530.976000</td>\n",
       "      <td>565.173000</td>\n",
       "    </tr>\n",
       "    <tr>\n",
       "      <th>std</th>\n",
       "      <td>2.7545</td>\n",
       "      <td>41.423051</td>\n",
       "      <td>44.038068</td>\n",
       "    </tr>\n",
       "    <tr>\n",
       "      <th>min</th>\n",
       "      <td>28.4700</td>\n",
       "      <td>427.420000</td>\n",
       "      <td>455.200000</td>\n",
       "    </tr>\n",
       "    <tr>\n",
       "      <th>25%</th>\n",
       "      <td>34.5500</td>\n",
       "      <td>519.095000</td>\n",
       "      <td>552.162500</td>\n",
       "    </tr>\n",
       "    <tr>\n",
       "      <th>50%</th>\n",
       "      <td>36.2650</td>\n",
       "      <td>544.930000</td>\n",
       "      <td>579.955000</td>\n",
       "    </tr>\n",
       "    <tr>\n",
       "      <th>75%</th>\n",
       "      <td>36.6850</td>\n",
       "      <td>550.952500</td>\n",
       "      <td>586.565000</td>\n",
       "    </tr>\n",
       "    <tr>\n",
       "      <th>max</th>\n",
       "      <td>39.7500</td>\n",
       "      <td>596.530000</td>\n",
       "      <td>635.550000</td>\n",
       "    </tr>\n",
       "  </tbody>\n",
       "</table>\n",
       "</div>"
      ],
      "text/plain": [
       "       pub-stats   sub-stats  overall-stats\n",
       "count    20.0000   20.000000      20.000000\n",
       "mean     35.3445  530.976000     565.173000\n",
       "std       2.7545   41.423051      44.038068\n",
       "min      28.4700  427.420000     455.200000\n",
       "25%      34.5500  519.095000     552.162500\n",
       "50%      36.2650  544.930000     579.955000\n",
       "75%      36.6850  550.952500     586.565000\n",
       "max      39.7500  596.530000     635.550000"
      ]
     },
     "execution_count": 9,
     "metadata": {},
     "output_type": "execute_result"
    }
   ],
   "source": [
    "# describe datasets\n",
    "dfA.describe()"
   ]
  },
  {
   "cell_type": "code",
   "execution_count": 10,
   "metadata": {},
   "outputs": [],
   "source": [
    "# a function for hypothesis testing\n",
    "def hypo_test(groupA, groupB):\n",
    "    t, p = ttest_ind(groupA, groupB)\n",
    "    return p < P_VALUE_BOUND"
   ]
  },
  {
   "cell_type": "code",
   "execution_count": null,
   "metadata": {},
   "outputs": [],
   "source": [
    "# a function to compare two groups\n",
    "def compare(avgA, avgB):    \n",
    "    return 100 * float(avgA-avgB/avgA)"
   ]
  },
  {
   "cell_type": "code",
   "execution_count": 11,
   "metadata": {},
   "outputs": [
    {
     "name": "stdout",
     "output_type": "stream",
     "text": [
      "fail to reject pub-stats hypothesis: the means are the same\n"
     ]
    }
   ],
   "source": [
    "#  hypothesis for comparing pub stats\n",
    "if hypo_test(dfA[\"pub-stats\"], dfB[\"pub-stats\"]):\n",
    "    print('reject pub-stats hypothesis: the means are different')\n",
    "    print(f'(A-B/A): {compare(dfA[\"pub-stats\"].mean(), dfB[\"pub-stats\"].mean())}')\n",
    "else:\n",
    "    print('fail to reject pub-stats hypothesis: the means are the same')"
   ]
  },
  {
   "cell_type": "code",
   "execution_count": 12,
   "metadata": {},
   "outputs": [
    {
     "name": "stdout",
     "output_type": "stream",
     "text": [
      "fail to reject sub-stats hypothesis: the means are the same\n"
     ]
    }
   ],
   "source": [
    "#  hypothesis for comparing sub stats\n",
    "if hypo_test(dfA[\"sub-stats\"], dfB[\"sub-stats\"]):\n",
    "    print('reject sub-stats hypothesis: the means are different')\n",
    "    print(f'(A-B/A): {compare(dfA[\"sub-stats\"].mean(), dfB[\"sub-stats\"].mean())}')\n",
    "else:\n",
    "    print('fail to reject sub-stats hypothesis: the means are the same')"
   ]
  },
  {
   "cell_type": "code",
   "execution_count": 13,
   "metadata": {},
   "outputs": [
    {
     "name": "stdout",
     "output_type": "stream",
     "text": [
      "fail to reject overall-stats hypothesis: the means are the same\n"
     ]
    }
   ],
   "source": [
    "#  hypothesis for comparing overall stats\n",
    "if hypo_test(dfA[\"overall-stats\"], dfB[\"overall-stats\"]):\n",
    "    print('reject overall-stats hypothesis: the means are different')\n",
    "    print(f'(A-B/A): {compare(dfA[\"overall-stats\"].mean(), dfB[\"overall-stats\"].mean())}')\n",
    "else:\n",
    "    print('fail to reject overall-stats hypothesis: the means are the same')"
   ]
  }
 ],
 "metadata": {
  "kernelspec": {
   "display_name": "Python 3",
   "language": "python",
   "name": "python3"
  },
  "language_info": {
   "codemirror_mode": {
    "name": "ipython",
    "version": 3
   },
   "file_extension": ".py",
   "mimetype": "text/x-python",
   "name": "python",
   "nbconvert_exporter": "python",
   "pygments_lexer": "ipython3",
   "version": "3.10.0"
  }
 },
 "nbformat": 4,
 "nbformat_minor": 2
}
