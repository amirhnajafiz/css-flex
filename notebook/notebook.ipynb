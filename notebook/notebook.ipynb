{
 "cells": [
  {
   "cell_type": "markdown",
   "metadata": {},
   "source": [
    "# Hypothesis Testing\n",
    "\n",
    "In this notebook, we are going to represent the logic of our hypothesis testing for comparing NATS config changes. Everytime that we make a change, we benchmark the before and after change cases. After that, we change the groups names based on ```tmp``` directory names. Then we run this notebook in order to check the compare results."
   ]
  },
  {
   "cell_type": "code",
   "execution_count": 24,
   "metadata": {},
   "outputs": [],
   "source": [
    "# notebook variables\n",
    "GROUP_A=\"pull-client.1d\" # change this\n",
    "GROUP_B=\"push-client.b2\" # change this\n",
    "\n",
    "P_VALUE_BOUND = 0.05"
   ]
  },
  {
   "cell_type": "code",
   "execution_count": 25,
   "metadata": {},
   "outputs": [],
   "source": [
    "# import in-use libraries\n",
    "import pandas as pd\n",
    "from scipy.stats import ttest_ind"
   ]
  },
  {
   "cell_type": "code",
   "execution_count": 26,
   "metadata": {},
   "outputs": [
    {
     "data": {
      "text/html": [
       "<div>\n",
       "<style scoped>\n",
       "    .dataframe tbody tr th:only-of-type {\n",
       "        vertical-align: middle;\n",
       "    }\n",
       "\n",
       "    .dataframe tbody tr th {\n",
       "        vertical-align: top;\n",
       "    }\n",
       "\n",
       "    .dataframe thead th {\n",
       "        text-align: right;\n",
       "    }\n",
       "</style>\n",
       "<table border=\"1\" class=\"dataframe\">\n",
       "  <thead>\n",
       "    <tr style=\"text-align: right;\">\n",
       "      <th></th>\n",
       "      <th>pub-stats</th>\n",
       "      <th>sub-stats</th>\n",
       "      <th>overall-stats</th>\n",
       "    </tr>\n",
       "  </thead>\n",
       "  <tbody>\n",
       "    <tr>\n",
       "      <th>0</th>\n",
       "      <td>404.19</td>\n",
       "      <td>560.73</td>\n",
       "      <td>808.39</td>\n",
       "    </tr>\n",
       "    <tr>\n",
       "      <th>1</th>\n",
       "      <td>405.27</td>\n",
       "      <td>561.46</td>\n",
       "      <td>810.55</td>\n",
       "    </tr>\n",
       "    <tr>\n",
       "      <th>2</th>\n",
       "      <td>422.85</td>\n",
       "      <td>593.15</td>\n",
       "      <td>845.69</td>\n",
       "    </tr>\n",
       "    <tr>\n",
       "      <th>3</th>\n",
       "      <td>420.13</td>\n",
       "      <td>599.29</td>\n",
       "      <td>840.27</td>\n",
       "    </tr>\n",
       "    <tr>\n",
       "      <th>4</th>\n",
       "      <td>390.53</td>\n",
       "      <td>594.87</td>\n",
       "      <td>781.05</td>\n",
       "    </tr>\n",
       "  </tbody>\n",
       "</table>\n",
       "</div>"
      ],
      "text/plain": [
       "   pub-stats  sub-stats  overall-stats\n",
       "0     404.19     560.73         808.39\n",
       "1     405.27     561.46         810.55\n",
       "2     422.85     593.15         845.69\n",
       "3     420.13     599.29         840.27\n",
       "4     390.53     594.87         781.05"
      ]
     },
     "execution_count": 26,
     "metadata": {},
     "output_type": "execute_result"
    }
   ],
   "source": [
    "# read csv to create groups datasets\n",
    "dfA = pd.read_csv(f'../tmp/{GROUP_A}/dataset.csv')\n",
    "dfB = pd.read_csv(f'../tmp/{GROUP_B}/dataset.csv')\n",
    "\n",
    "dfA.head()"
   ]
  },
  {
   "cell_type": "code",
   "execution_count": 27,
   "metadata": {},
   "outputs": [
    {
     "data": {
      "text/html": [
       "<div>\n",
       "<style scoped>\n",
       "    .dataframe tbody tr th:only-of-type {\n",
       "        vertical-align: middle;\n",
       "    }\n",
       "\n",
       "    .dataframe tbody tr th {\n",
       "        vertical-align: top;\n",
       "    }\n",
       "\n",
       "    .dataframe thead th {\n",
       "        text-align: right;\n",
       "    }\n",
       "</style>\n",
       "<table border=\"1\" class=\"dataframe\">\n",
       "  <thead>\n",
       "    <tr style=\"text-align: right;\">\n",
       "      <th></th>\n",
       "      <th>pub-stats</th>\n",
       "      <th>sub-stats</th>\n",
       "      <th>overall-stats</th>\n",
       "    </tr>\n",
       "  </thead>\n",
       "  <tbody>\n",
       "    <tr>\n",
       "      <th>count</th>\n",
       "      <td>10.000000</td>\n",
       "      <td>10.000000</td>\n",
       "      <td>10.000000</td>\n",
       "    </tr>\n",
       "    <tr>\n",
       "      <th>mean</th>\n",
       "      <td>400.203000</td>\n",
       "      <td>561.239000</td>\n",
       "      <td>800.407000</td>\n",
       "    </tr>\n",
       "    <tr>\n",
       "      <th>std</th>\n",
       "      <td>23.679675</td>\n",
       "      <td>44.874121</td>\n",
       "      <td>47.359996</td>\n",
       "    </tr>\n",
       "    <tr>\n",
       "      <th>min</th>\n",
       "      <td>338.950000</td>\n",
       "      <td>442.970000</td>\n",
       "      <td>677.900000</td>\n",
       "    </tr>\n",
       "    <tr>\n",
       "      <th>25%</th>\n",
       "      <td>397.012500</td>\n",
       "      <td>560.912500</td>\n",
       "      <td>794.027500</td>\n",
       "    </tr>\n",
       "    <tr>\n",
       "      <th>50%</th>\n",
       "      <td>405.630000</td>\n",
       "      <td>569.995000</td>\n",
       "      <td>811.265000</td>\n",
       "    </tr>\n",
       "    <tr>\n",
       "      <th>75%</th>\n",
       "      <td>410.315000</td>\n",
       "      <td>588.305000</td>\n",
       "      <td>820.625000</td>\n",
       "    </tr>\n",
       "    <tr>\n",
       "      <th>max</th>\n",
       "      <td>422.850000</td>\n",
       "      <td>599.290000</td>\n",
       "      <td>845.690000</td>\n",
       "    </tr>\n",
       "  </tbody>\n",
       "</table>\n",
       "</div>"
      ],
      "text/plain": [
       "        pub-stats   sub-stats  overall-stats\n",
       "count   10.000000   10.000000      10.000000\n",
       "mean   400.203000  561.239000     800.407000\n",
       "std     23.679675   44.874121      47.359996\n",
       "min    338.950000  442.970000     677.900000\n",
       "25%    397.012500  560.912500     794.027500\n",
       "50%    405.630000  569.995000     811.265000\n",
       "75%    410.315000  588.305000     820.625000\n",
       "max    422.850000  599.290000     845.690000"
      ]
     },
     "execution_count": 27,
     "metadata": {},
     "output_type": "execute_result"
    }
   ],
   "source": [
    "# describe datasets\n",
    "dfA.describe()"
   ]
  },
  {
   "cell_type": "code",
   "execution_count": 28,
   "metadata": {},
   "outputs": [],
   "source": [
    "# using a function for hypothesis testing logic\n",
    "# which gets two columns data to compare\n",
    "def hypo_test(groupA, groupB):\n",
    "    # get mean values\n",
    "    mean_a = groupA.mean()\n",
    "    mean_b = groupB.mean()\n",
    "    \n",
    "    t_statistic, p_value = ttest_ind(groupA, groupB)\n",
    "    \n",
    "    print(f\"\\tmean of `{GROUP_A}`: {mean_a}\")\n",
    "    print(f\"\\tmean of `{GROUP_B}`: {mean_b}\")\n",
    "    print(f\"\\tt-statistic: {t_statistic}\")\n",
    "    print(f\"\\tp-value: {p_value}\")\n",
    "    \n",
    "    if p_value < P_VALUE_BOUND:\n",
    "        print(\"the difference is statistically significant at 95% confidence level.\")\n",
    "        if mean_a > mean_b:\n",
    "            print(f\"`{GROUP_A}` is better by {100 * float((mean_a-mean_b)/mean_a)}%.\")\n",
    "        else:\n",
    "            print(f\"`{GROUP_B}` is better by {100 * float((mean_b-mean_a)/mean_b)}%.\")\n",
    "    else:\n",
    "        print(\"the difference is not statistically significant at 95% confidence level.\")"
   ]
  },
  {
   "cell_type": "code",
   "execution_count": 29,
   "metadata": {},
   "outputs": [],
   "source": [
    "# defining dataset columns\n",
    "columns = [\"pub-stats\", \"sub-stats\", \"overall-stats\"]"
   ]
  },
  {
   "cell_type": "code",
   "execution_count": 30,
   "metadata": {},
   "outputs": [
    {
     "name": "stdout",
     "output_type": "stream",
     "text": [
      "\n",
      "testing `pub-stats` field:\n",
      "\tmean of `pull-client.1d`: 400.203\n",
      "\tmean of `push-client.b2`: 253.776\n",
      "\tt-statistic: 12.792186297733219\n",
      "\tp-value: 1.791119486687319e-10\n",
      "the difference is statistically significant at 95% confidence level.\n",
      "`pull-client.1d` is better by 36.58818149788981%.\n",
      "\n",
      "testing `sub-stats` field:\n",
      "\tmean of `pull-client.1d`: 561.239\n",
      "\tmean of `push-client.b2`: 325.448\n",
      "\tt-statistic: 11.832787005661107\n",
      "\tp-value: 6.323474368276264e-10\n",
      "the difference is statistically significant at 95% confidence level.\n",
      "`pull-client.1d` is better by 42.0125828746755%.\n",
      "\n",
      "testing `overall-stats` field:\n",
      "\tmean of `pull-client.1d`: 800.4069999999999\n",
      "\tmean of `push-client.b2`: 507.55\n",
      "\tt-statistic: 12.79240040987597\n",
      "\tp-value: 1.7906307563517974e-10\n",
      "the difference is statistically significant at 95% confidence level.\n",
      "`pull-client.1d` is better by 36.588510595234666%.\n"
     ]
    }
   ],
   "source": [
    "#  hypothesis for comparing two groups\n",
    "for column in columns:\n",
    "    print(f\"\\ntesting `{column}` field:\")\n",
    "    hypo_test(dfA[column], dfB[column])"
   ]
  }
 ],
 "metadata": {
  "kernelspec": {
   "display_name": "Python 3",
   "language": "python",
   "name": "python3"
  },
  "language_info": {
   "codemirror_mode": {
    "name": "ipython",
    "version": 3
   },
   "file_extension": ".py",
   "mimetype": "text/x-python",
   "name": "python",
   "nbconvert_exporter": "python",
   "pygments_lexer": "ipython3",
   "version": "3.10.0"
  }
 },
 "nbformat": 4,
 "nbformat_minor": 2
}
