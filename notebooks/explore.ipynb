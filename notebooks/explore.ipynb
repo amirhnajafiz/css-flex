{
 "cells": [
  {
   "cell_type": "markdown",
   "metadata": {},
   "source": [
    "# Explore notebook\n",
    "\n",
    "In this notebook we explore our datasets in ```tmp``` directory."
   ]
  },
  {
   "cell_type": "code",
   "execution_count": 1,
   "metadata": {},
   "outputs": [],
   "source": [
    "# source file\n",
    "GROUP = \"ddup-5\"\n",
    "\n",
    "DEFAULT_DIR = \"../runbook/tmp\""
   ]
  },
  {
   "cell_type": "code",
   "execution_count": 2,
   "metadata": {},
   "outputs": [],
   "source": [
    "# import in-use libraries\n",
    "import pandas as pd"
   ]
  },
  {
   "cell_type": "code",
   "execution_count": 3,
   "metadata": {},
   "outputs": [],
   "source": [
    "# import dataset\n",
    "df = pd.read_csv(f'{DEFAULT_DIR}/{GROUP}.csv')"
   ]
  },
  {
   "cell_type": "code",
   "execution_count": 4,
   "metadata": {},
   "outputs": [
    {
     "name": "stdout",
     "output_type": "stream",
     "text": [
      "pub-stats\n",
      "6.14 Mb/s\n",
      "\n",
      "sub-stats\n",
      "4.13 Mb/s\n",
      "\n",
      "overall-stats\n",
      "8.25 Mb/s\n",
      "\n"
     ]
    }
   ],
   "source": [
    "# get output values of dataset\n",
    "columns = [\"pub-stats\", \"sub-stats\", \"overall-stats\"]\n",
    "for column in columns:\n",
    "    value = \"%.2f\" % df[column].mean()\n",
    "    print(column)\n",
    "    print(f'{value} Mb/s\\n')"
   ]
  }
 ],
 "metadata": {
  "kernelspec": {
   "display_name": "Python 3",
   "language": "python",
   "name": "python3"
  },
  "language_info": {
   "codemirror_mode": {
    "name": "ipython",
    "version": 3
   },
   "file_extension": ".py",
   "mimetype": "text/x-python",
   "name": "python",
   "nbconvert_exporter": "python",
   "pygments_lexer": "ipython3",
   "version": "3.10.0"
  }
 },
 "nbformat": 4,
 "nbformat_minor": 2
}
