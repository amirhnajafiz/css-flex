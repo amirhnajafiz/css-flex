{
 "cells": [
  {
   "cell_type": "markdown",
   "metadata": {},
   "source": [
    "# Hypothesis Testing\n",
    "\n",
    "In this notebook, we are going to represent the logic of our hypothesis testing for comparing NATS config changes. Everytime that we make a change, we benchmark the before and after change cases. After that, we change the groups names based on ```tmp``` directory names. Then we run this notebook in order to check the compare results."
   ]
  },
  {
   "cell_type": "code",
   "execution_count": 99,
   "metadata": {},
   "outputs": [],
   "source": [
    "# notebook variables\n",
    "GROUP_A=\"no-syncpub-rep1/dataset.csv\" # change this\n",
    "GROUP_B=\"syncpub-rep1/dataset.csv\" # change this\n",
    "\n",
    "DEFAULT_DIR = \"../runbook/tmp\"\n",
    "\n",
    "# ttest variables\n",
    "P_VALUE_BOUND = 0.05 # change the pvalue bound\n",
    "PERMUTATION_VALUE = 25 # you can update permutation value (ususally we set it to half of our dataset capacity)"
   ]
  },
  {
   "cell_type": "code",
   "execution_count": 100,
   "metadata": {},
   "outputs": [],
   "source": [
    "# import in-use libraries\n",
    "import pandas as pd\n",
    "from scipy.stats import ttest_ind"
   ]
  },
  {
   "cell_type": "code",
   "execution_count": 101,
   "metadata": {},
   "outputs": [
    {
     "data": {
      "text/html": [
       "<div>\n",
       "<style scoped>\n",
       "    .dataframe tbody tr th:only-of-type {\n",
       "        vertical-align: middle;\n",
       "    }\n",
       "\n",
       "    .dataframe tbody tr th {\n",
       "        vertical-align: top;\n",
       "    }\n",
       "\n",
       "    .dataframe thead th {\n",
       "        text-align: right;\n",
       "    }\n",
       "</style>\n",
       "<table border=\"1\" class=\"dataframe\">\n",
       "  <thead>\n",
       "    <tr style=\"text-align: right;\">\n",
       "      <th></th>\n",
       "      <th>pub-stats</th>\n",
       "      <th>sub-stats</th>\n",
       "      <th>overall-stats</th>\n",
       "    </tr>\n",
       "  </thead>\n",
       "  <tbody>\n",
       "    <tr>\n",
       "      <th>0</th>\n",
       "      <td>20.10</td>\n",
       "      <td>NaN</td>\n",
       "      <td>NaN</td>\n",
       "    </tr>\n",
       "    <tr>\n",
       "      <th>1</th>\n",
       "      <td>19.31</td>\n",
       "      <td>NaN</td>\n",
       "      <td>NaN</td>\n",
       "    </tr>\n",
       "    <tr>\n",
       "      <th>2</th>\n",
       "      <td>19.17</td>\n",
       "      <td>NaN</td>\n",
       "      <td>NaN</td>\n",
       "    </tr>\n",
       "    <tr>\n",
       "      <th>3</th>\n",
       "      <td>18.79</td>\n",
       "      <td>NaN</td>\n",
       "      <td>NaN</td>\n",
       "    </tr>\n",
       "    <tr>\n",
       "      <th>4</th>\n",
       "      <td>19.52</td>\n",
       "      <td>NaN</td>\n",
       "      <td>NaN</td>\n",
       "    </tr>\n",
       "  </tbody>\n",
       "</table>\n",
       "</div>"
      ],
      "text/plain": [
       "   pub-stats  sub-stats  overall-stats\n",
       "0      20.10        NaN            NaN\n",
       "1      19.31        NaN            NaN\n",
       "2      19.17        NaN            NaN\n",
       "3      18.79        NaN            NaN\n",
       "4      19.52        NaN            NaN"
      ]
     },
     "execution_count": 101,
     "metadata": {},
     "output_type": "execute_result"
    }
   ],
   "source": [
    "# read csv to create groups datasets\n",
    "dfA = pd.read_csv(f'{DEFAULT_DIR}/{GROUP_A}')\n",
    "dfB = pd.read_csv(f'{DEFAULT_DIR}/{GROUP_B}')\n",
    "\n",
    "dfA.head()"
   ]
  },
  {
   "cell_type": "code",
   "execution_count": 102,
   "metadata": {},
   "outputs": [
    {
     "data": {
      "text/html": [
       "<div>\n",
       "<style scoped>\n",
       "    .dataframe tbody tr th:only-of-type {\n",
       "        vertical-align: middle;\n",
       "    }\n",
       "\n",
       "    .dataframe tbody tr th {\n",
       "        vertical-align: top;\n",
       "    }\n",
       "\n",
       "    .dataframe thead th {\n",
       "        text-align: right;\n",
       "    }\n",
       "</style>\n",
       "<table border=\"1\" class=\"dataframe\">\n",
       "  <thead>\n",
       "    <tr style=\"text-align: right;\">\n",
       "      <th></th>\n",
       "      <th>pub-stats</th>\n",
       "      <th>sub-stats</th>\n",
       "      <th>overall-stats</th>\n",
       "    </tr>\n",
       "  </thead>\n",
       "  <tbody>\n",
       "    <tr>\n",
       "      <th>count</th>\n",
       "      <td>50.000000</td>\n",
       "      <td>0.0</td>\n",
       "      <td>0.0</td>\n",
       "    </tr>\n",
       "    <tr>\n",
       "      <th>mean</th>\n",
       "      <td>20.552000</td>\n",
       "      <td>NaN</td>\n",
       "      <td>NaN</td>\n",
       "    </tr>\n",
       "    <tr>\n",
       "      <th>std</th>\n",
       "      <td>2.343328</td>\n",
       "      <td>NaN</td>\n",
       "      <td>NaN</td>\n",
       "    </tr>\n",
       "    <tr>\n",
       "      <th>min</th>\n",
       "      <td>17.000000</td>\n",
       "      <td>NaN</td>\n",
       "      <td>NaN</td>\n",
       "    </tr>\n",
       "    <tr>\n",
       "      <th>25%</th>\n",
       "      <td>18.800000</td>\n",
       "      <td>NaN</td>\n",
       "      <td>NaN</td>\n",
       "    </tr>\n",
       "    <tr>\n",
       "      <th>50%</th>\n",
       "      <td>19.565000</td>\n",
       "      <td>NaN</td>\n",
       "      <td>NaN</td>\n",
       "    </tr>\n",
       "    <tr>\n",
       "      <th>75%</th>\n",
       "      <td>22.977500</td>\n",
       "      <td>NaN</td>\n",
       "      <td>NaN</td>\n",
       "    </tr>\n",
       "    <tr>\n",
       "      <th>max</th>\n",
       "      <td>24.840000</td>\n",
       "      <td>NaN</td>\n",
       "      <td>NaN</td>\n",
       "    </tr>\n",
       "  </tbody>\n",
       "</table>\n",
       "</div>"
      ],
      "text/plain": [
       "       pub-stats  sub-stats  overall-stats\n",
       "count  50.000000        0.0            0.0\n",
       "mean   20.552000        NaN            NaN\n",
       "std     2.343328        NaN            NaN\n",
       "min    17.000000        NaN            NaN\n",
       "25%    18.800000        NaN            NaN\n",
       "50%    19.565000        NaN            NaN\n",
       "75%    22.977500        NaN            NaN\n",
       "max    24.840000        NaN            NaN"
      ]
     },
     "execution_count": 102,
     "metadata": {},
     "output_type": "execute_result"
    }
   ],
   "source": [
    "# describe datasets\n",
    "dfA.describe()"
   ]
  },
  {
   "cell_type": "code",
   "execution_count": 103,
   "metadata": {},
   "outputs": [],
   "source": [
    "# using a function for hypothesis testing logic\n",
    "# which gets two columns data to compare\n",
    "def hypo_test(groupA, groupB):\n",
    "    # get mean values\n",
    "    mean_a = groupA.mean()\n",
    "    mean_b = groupB.mean()\n",
    "    \n",
    "    t_statistic, p_value = ttest_ind(groupA, groupB, equal_var=True, permutations=PERMUTATION_VALUE)\n",
    "    \n",
    "    print(f\"\\tmean of `{GROUP_A}`: {mean_a}\")\n",
    "    print(f\"\\tmean of `{GROUP_B}`: {mean_b}\")\n",
    "    print(f\"\\tt-statistic: {t_statistic}\")\n",
    "    print(f\"\\tp-value: {p_value}\")\n",
    "    \n",
    "    if p_value < P_VALUE_BOUND:\n",
    "        print(\"the difference is statistically significant at 95% confidence level.\")\n",
    "        if mean_a > mean_b:\n",
    "            print(f\"`{GROUP_A}` is better by {100 * float((mean_a-mean_b)/mean_a)}%.\")\n",
    "        else:\n",
    "            print(f\"`{GROUP_B}` is better by {100 * float((mean_b-mean_a)/mean_b)}%.\")\n",
    "    else:\n",
    "        print(\"the difference is not statistically significant at 95% confidence level.\")"
   ]
  },
  {
   "cell_type": "code",
   "execution_count": 104,
   "metadata": {},
   "outputs": [],
   "source": [
    "# defining dataset columns\n",
    "columns = [\"pub-stats\", \"sub-stats\", \"overall-stats\"]"
   ]
  },
  {
   "cell_type": "code",
   "execution_count": 105,
   "metadata": {},
   "outputs": [
    {
     "name": "stdout",
     "output_type": "stream",
     "text": [
      "\n",
      "testing `pub-stats` field:\n",
      "\tmean of `no-syncpub-rep1/dataset.csv`: 20.551999999999992\n",
      "\tmean of `syncpub-rep1/dataset.csv`: 92.66300000000001\n",
      "\tt-statistic: -1.8289069633118038\n",
      "\tp-value: 0.0\n",
      "the difference is statistically significant at 95% confidence level.\n",
      "`syncpub-rep1/dataset.csv` is better by 77.82070513581473%.\n",
      "\n",
      "testing `sub-stats` field:\n",
      "\tmean of `no-syncpub-rep1/dataset.csv`: nan\n",
      "\tmean of `syncpub-rep1/dataset.csv`: nan\n",
      "\tt-statistic: nan\n",
      "\tp-value: nan\n",
      "the difference is not statistically significant at 95% confidence level.\n",
      "\n",
      "testing `overall-stats` field:\n",
      "\tmean of `no-syncpub-rep1/dataset.csv`: nan\n",
      "\tmean of `syncpub-rep1/dataset.csv`: nan\n",
      "\tt-statistic: nan\n",
      "\tp-value: nan\n",
      "the difference is not statistically significant at 95% confidence level.\n"
     ]
    }
   ],
   "source": [
    "#  hypothesis for comparing two groups\n",
    "for column in columns:\n",
    "    print(f\"\\ntesting `{column}` field:\")\n",
    "    hypo_test(dfA[column], dfB[column])"
   ]
  }
 ],
 "metadata": {
  "kernelspec": {
   "display_name": "Python 3",
   "language": "python",
   "name": "python3"
  },
  "language_info": {
   "codemirror_mode": {
    "name": "ipython",
    "version": 3
   },
   "file_extension": ".py",
   "mimetype": "text/x-python",
   "name": "python",
   "nbconvert_exporter": "python",
   "pygments_lexer": "ipython3",
   "version": "3.10.0"
  }
 },
 "nbformat": 4,
 "nbformat_minor": 2
}
