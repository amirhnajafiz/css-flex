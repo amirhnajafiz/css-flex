{
 "cells": [
  {
   "cell_type": "markdown",
   "metadata": {},
   "source": [
    "# Hypothesis Testing\n",
    "\n",
    "In this notebook, we are going to represent the logic of our hypothesis testing for comparing NATS config changes. Everytime that we make a change, we benchmark the before and after change cases. After that, we change the groups names based on ```tmp``` directory names. Then we run this notebook in order to check the compare results."
   ]
  },
  {
   "cell_type": "code",
   "execution_count": 1,
   "metadata": {},
   "outputs": [],
   "source": [
    "# notebook variables\n",
    "GROUP_A=\"no-syncpub-3/dataset.csv\" # change this\n",
    "GROUP_B=\"no-syncpub-rep1/dataset.csv\" # change this\n",
    "\n",
    "DEFAULT_DIR = \"../runbook/tmp\"\n",
    "\n",
    "# ttest variables\n",
    "P_VALUE_BOUND = 0.05 # change the pvalue bound\n",
    "PERMUTATION_VALUE = 25 # you can update permutation value (ususally we set it to half of our dataset capacity)"
   ]
  },
  {
   "cell_type": "code",
   "execution_count": 2,
   "metadata": {},
   "outputs": [],
   "source": [
    "# import in-use libraries\n",
    "import pandas as pd\n",
    "from scipy.stats import ttest_ind"
   ]
  },
  {
   "cell_type": "code",
   "execution_count": 3,
   "metadata": {},
   "outputs": [
    {
     "data": {
      "text/html": [
       "<div>\n",
       "<style scoped>\n",
       "    .dataframe tbody tr th:only-of-type {\n",
       "        vertical-align: middle;\n",
       "    }\n",
       "\n",
       "    .dataframe tbody tr th {\n",
       "        vertical-align: top;\n",
       "    }\n",
       "\n",
       "    .dataframe thead th {\n",
       "        text-align: right;\n",
       "    }\n",
       "</style>\n",
       "<table border=\"1\" class=\"dataframe\">\n",
       "  <thead>\n",
       "    <tr style=\"text-align: right;\">\n",
       "      <th></th>\n",
       "      <th>pub-stats</th>\n",
       "      <th>sub-stats</th>\n",
       "      <th>overall-stats</th>\n",
       "    </tr>\n",
       "  </thead>\n",
       "  <tbody>\n",
       "    <tr>\n",
       "      <th>0</th>\n",
       "      <td>11.66</td>\n",
       "      <td>NaN</td>\n",
       "      <td>NaN</td>\n",
       "    </tr>\n",
       "    <tr>\n",
       "      <th>1</th>\n",
       "      <td>11.84</td>\n",
       "      <td>NaN</td>\n",
       "      <td>NaN</td>\n",
       "    </tr>\n",
       "    <tr>\n",
       "      <th>2</th>\n",
       "      <td>10.57</td>\n",
       "      <td>NaN</td>\n",
       "      <td>NaN</td>\n",
       "    </tr>\n",
       "    <tr>\n",
       "      <th>3</th>\n",
       "      <td>10.14</td>\n",
       "      <td>NaN</td>\n",
       "      <td>NaN</td>\n",
       "    </tr>\n",
       "    <tr>\n",
       "      <th>4</th>\n",
       "      <td>11.99</td>\n",
       "      <td>NaN</td>\n",
       "      <td>NaN</td>\n",
       "    </tr>\n",
       "  </tbody>\n",
       "</table>\n",
       "</div>"
      ],
      "text/plain": [
       "   pub-stats  sub-stats  overall-stats\n",
       "0      11.66        NaN            NaN\n",
       "1      11.84        NaN            NaN\n",
       "2      10.57        NaN            NaN\n",
       "3      10.14        NaN            NaN\n",
       "4      11.99        NaN            NaN"
      ]
     },
     "execution_count": 3,
     "metadata": {},
     "output_type": "execute_result"
    }
   ],
   "source": [
    "# read csv to create groups datasets\n",
    "dfA = pd.read_csv(f'{DEFAULT_DIR}/{GROUP_A}')\n",
    "dfB = pd.read_csv(f'{DEFAULT_DIR}/{GROUP_B}')\n",
    "\n",
    "dfA.head()"
   ]
  },
  {
   "cell_type": "code",
   "execution_count": 4,
   "metadata": {},
   "outputs": [
    {
     "data": {
      "text/html": [
       "<div>\n",
       "<style scoped>\n",
       "    .dataframe tbody tr th:only-of-type {\n",
       "        vertical-align: middle;\n",
       "    }\n",
       "\n",
       "    .dataframe tbody tr th {\n",
       "        vertical-align: top;\n",
       "    }\n",
       "\n",
       "    .dataframe thead th {\n",
       "        text-align: right;\n",
       "    }\n",
       "</style>\n",
       "<table border=\"1\" class=\"dataframe\">\n",
       "  <thead>\n",
       "    <tr style=\"text-align: right;\">\n",
       "      <th></th>\n",
       "      <th>pub-stats</th>\n",
       "      <th>sub-stats</th>\n",
       "      <th>overall-stats</th>\n",
       "    </tr>\n",
       "  </thead>\n",
       "  <tbody>\n",
       "    <tr>\n",
       "      <th>count</th>\n",
       "      <td>50.000000</td>\n",
       "      <td>0.0</td>\n",
       "      <td>0.0</td>\n",
       "    </tr>\n",
       "    <tr>\n",
       "      <th>mean</th>\n",
       "      <td>11.949600</td>\n",
       "      <td>NaN</td>\n",
       "      <td>NaN</td>\n",
       "    </tr>\n",
       "    <tr>\n",
       "      <th>std</th>\n",
       "      <td>1.230279</td>\n",
       "      <td>NaN</td>\n",
       "      <td>NaN</td>\n",
       "    </tr>\n",
       "    <tr>\n",
       "      <th>min</th>\n",
       "      <td>9.250000</td>\n",
       "      <td>NaN</td>\n",
       "      <td>NaN</td>\n",
       "    </tr>\n",
       "    <tr>\n",
       "      <th>25%</th>\n",
       "      <td>11.312500</td>\n",
       "      <td>NaN</td>\n",
       "      <td>NaN</td>\n",
       "    </tr>\n",
       "    <tr>\n",
       "      <th>50%</th>\n",
       "      <td>11.990000</td>\n",
       "      <td>NaN</td>\n",
       "      <td>NaN</td>\n",
       "    </tr>\n",
       "    <tr>\n",
       "      <th>75%</th>\n",
       "      <td>12.662500</td>\n",
       "      <td>NaN</td>\n",
       "      <td>NaN</td>\n",
       "    </tr>\n",
       "    <tr>\n",
       "      <th>max</th>\n",
       "      <td>14.140000</td>\n",
       "      <td>NaN</td>\n",
       "      <td>NaN</td>\n",
       "    </tr>\n",
       "  </tbody>\n",
       "</table>\n",
       "</div>"
      ],
      "text/plain": [
       "       pub-stats  sub-stats  overall-stats\n",
       "count  50.000000        0.0            0.0\n",
       "mean   11.949600        NaN            NaN\n",
       "std     1.230279        NaN            NaN\n",
       "min     9.250000        NaN            NaN\n",
       "25%    11.312500        NaN            NaN\n",
       "50%    11.990000        NaN            NaN\n",
       "75%    12.662500        NaN            NaN\n",
       "max    14.140000        NaN            NaN"
      ]
     },
     "execution_count": 4,
     "metadata": {},
     "output_type": "execute_result"
    }
   ],
   "source": [
    "# describe datasets\n",
    "dfA.describe()"
   ]
  },
  {
   "cell_type": "code",
   "execution_count": 5,
   "metadata": {},
   "outputs": [],
   "source": [
    "# using a function for hypothesis testing logic\n",
    "# which gets two columns data to compare\n",
    "def hypo_test(groupA, groupB):\n",
    "    # get mean values\n",
    "    mean_a = groupA.mean()\n",
    "    mean_b = groupB.mean()\n",
    "    \n",
    "    t_statistic, p_value = ttest_ind(groupA, groupB, equal_var=True, permutations=PERMUTATION_VALUE)\n",
    "    \n",
    "    print(f\"\\tmean of `{GROUP_A}`: {mean_a}\")\n",
    "    print(f\"\\tmean of `{GROUP_B}`: {mean_b}\")\n",
    "    print(f\"\\tt-statistic: {t_statistic}\")\n",
    "    print(f\"\\tp-value: {p_value}\")\n",
    "    \n",
    "    if p_value < P_VALUE_BOUND:\n",
    "        print(\"the difference is statistically significant at 95% confidence level.\")\n",
    "        if mean_a > mean_b:\n",
    "            print(f\"`{GROUP_A}` is better by {100 * float((mean_a-mean_b)/mean_a)}%.\")\n",
    "        else:\n",
    "            print(f\"`{GROUP_B}` is better by {100 * float((mean_b-mean_a)/mean_b)}%.\")\n",
    "    else:\n",
    "        print(\"the difference is not statistically significant at 95% confidence level.\")"
   ]
  },
  {
   "cell_type": "code",
   "execution_count": 6,
   "metadata": {},
   "outputs": [],
   "source": [
    "# defining dataset columns\n",
    "columns = [\"pub-stats\", \"sub-stats\", \"overall-stats\"]"
   ]
  },
  {
   "cell_type": "code",
   "execution_count": 7,
   "metadata": {},
   "outputs": [
    {
     "name": "stdout",
     "output_type": "stream",
     "text": [
      "\n",
      "testing `pub-stats` field:\n",
      "\tmean of `no-syncpub-3/dataset.csv`: 11.9496\n",
      "\tmean of `no-syncpub-rep1/dataset.csv`: 20.551999999999992\n",
      "\tt-statistic: -22.983042981964857\n",
      "\tp-value: 0.0\n",
      "the difference is statistically significant at 95% confidence level.\n",
      "`no-syncpub-rep1/dataset.csv` is better by 41.85675360062279%.\n",
      "\n",
      "testing `sub-stats` field:\n",
      "\tmean of `no-syncpub-3/dataset.csv`: nan\n",
      "\tmean of `no-syncpub-rep1/dataset.csv`: nan\n",
      "\tt-statistic: nan\n",
      "\tp-value: nan\n",
      "the difference is not statistically significant at 95% confidence level.\n",
      "\n",
      "testing `overall-stats` field:\n",
      "\tmean of `no-syncpub-3/dataset.csv`: nan\n",
      "\tmean of `no-syncpub-rep1/dataset.csv`: nan\n",
      "\tt-statistic: nan\n",
      "\tp-value: nan\n",
      "the difference is not statistically significant at 95% confidence level.\n"
     ]
    }
   ],
   "source": [
    "#  hypothesis for comparing two groups\n",
    "for column in columns:\n",
    "    print(f\"\\ntesting `{column}` field:\")\n",
    "    hypo_test(dfA[column], dfB[column])"
   ]
  }
 ],
 "metadata": {
  "kernelspec": {
   "display_name": "Python 3",
   "language": "python",
   "name": "python3"
  },
  "language_info": {
   "codemirror_mode": {
    "name": "ipython",
    "version": 3
   },
   "file_extension": ".py",
   "mimetype": "text/x-python",
   "name": "python",
   "nbconvert_exporter": "python",
   "pygments_lexer": "ipython3",
   "version": "3.10.0"
  }
 },
 "nbformat": 4,
 "nbformat_minor": 2
}
