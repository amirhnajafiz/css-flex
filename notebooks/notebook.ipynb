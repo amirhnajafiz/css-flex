{
 "cells": [
  {
   "cell_type": "markdown",
   "metadata": {},
   "source": [
    "# Hypothesis Testing\n",
    "\n",
    "In this notebook, we are going to represent the logic of our hypothesis testing for comparing NATS config changes. Everytime that we make a change, we benchmark the before and after change cases. After that, we change the groups names based on ```tmp``` directory names. Then we run this notebook in order to check the compare results."
   ]
  },
  {
   "cell_type": "code",
   "execution_count": 57,
   "metadata": {},
   "outputs": [],
   "source": [
    "# notebook variables\n",
    "GROUP_A=\"ddup-5.csv\" # change this\n",
    "GROUP_B=\"nddup-5.csv\" # change this\n",
    "\n",
    "# ttest variables\n",
    "P_VALUE_BOUND = 0.05 # change the pvalue bound\n",
    "PERMUTATION_VALUE = 25 # you can update permutation value (ususally we set it to half of our dataset capacity)"
   ]
  },
  {
   "cell_type": "code",
   "execution_count": 58,
   "metadata": {},
   "outputs": [],
   "source": [
    "# import in-use libraries\n",
    "import pandas as pd\n",
    "from scipy.stats import ttest_ind"
   ]
  },
  {
   "cell_type": "code",
   "execution_count": 59,
   "metadata": {},
   "outputs": [
    {
     "data": {
      "text/html": [
       "<div>\n",
       "<style scoped>\n",
       "    .dataframe tbody tr th:only-of-type {\n",
       "        vertical-align: middle;\n",
       "    }\n",
       "\n",
       "    .dataframe tbody tr th {\n",
       "        vertical-align: top;\n",
       "    }\n",
       "\n",
       "    .dataframe thead th {\n",
       "        text-align: right;\n",
       "    }\n",
       "</style>\n",
       "<table border=\"1\" class=\"dataframe\">\n",
       "  <thead>\n",
       "    <tr style=\"text-align: right;\">\n",
       "      <th></th>\n",
       "      <th>pub-stats</th>\n",
       "      <th>sub-stats</th>\n",
       "      <th>overall-stats</th>\n",
       "    </tr>\n",
       "  </thead>\n",
       "  <tbody>\n",
       "    <tr>\n",
       "      <th>0</th>\n",
       "      <td>6.18</td>\n",
       "      <td>4.31</td>\n",
       "      <td>8.62</td>\n",
       "    </tr>\n",
       "    <tr>\n",
       "      <th>1</th>\n",
       "      <td>7.02</td>\n",
       "      <td>4.11</td>\n",
       "      <td>8.21</td>\n",
       "    </tr>\n",
       "    <tr>\n",
       "      <th>2</th>\n",
       "      <td>6.29</td>\n",
       "      <td>4.64</td>\n",
       "      <td>9.22</td>\n",
       "    </tr>\n",
       "    <tr>\n",
       "      <th>3</th>\n",
       "      <td>5.88</td>\n",
       "      <td>3.72</td>\n",
       "      <td>7.44</td>\n",
       "    </tr>\n",
       "    <tr>\n",
       "      <th>4</th>\n",
       "      <td>5.85</td>\n",
       "      <td>3.90</td>\n",
       "      <td>7.81</td>\n",
       "    </tr>\n",
       "  </tbody>\n",
       "</table>\n",
       "</div>"
      ],
      "text/plain": [
       "   pub-stats  sub-stats  overall-stats\n",
       "0       6.18       4.31           8.62\n",
       "1       7.02       4.11           8.21\n",
       "2       6.29       4.64           9.22\n",
       "3       5.88       3.72           7.44\n",
       "4       5.85       3.90           7.81"
      ]
     },
     "execution_count": 59,
     "metadata": {},
     "output_type": "execute_result"
    }
   ],
   "source": [
    "# read csv to create groups datasets\n",
    "dfA = pd.read_csv(f'../tmp/{GROUP_A}')\n",
    "dfB = pd.read_csv(f'../tmp/{GROUP_B}')\n",
    "\n",
    "dfA.head()"
   ]
  },
  {
   "cell_type": "code",
   "execution_count": 60,
   "metadata": {},
   "outputs": [
    {
     "data": {
      "text/html": [
       "<div>\n",
       "<style scoped>\n",
       "    .dataframe tbody tr th:only-of-type {\n",
       "        vertical-align: middle;\n",
       "    }\n",
       "\n",
       "    .dataframe tbody tr th {\n",
       "        vertical-align: top;\n",
       "    }\n",
       "\n",
       "    .dataframe thead th {\n",
       "        text-align: right;\n",
       "    }\n",
       "</style>\n",
       "<table border=\"1\" class=\"dataframe\">\n",
       "  <thead>\n",
       "    <tr style=\"text-align: right;\">\n",
       "      <th></th>\n",
       "      <th>pub-stats</th>\n",
       "      <th>sub-stats</th>\n",
       "      <th>overall-stats</th>\n",
       "    </tr>\n",
       "  </thead>\n",
       "  <tbody>\n",
       "    <tr>\n",
       "      <th>count</th>\n",
       "      <td>50.000000</td>\n",
       "      <td>50.000000</td>\n",
       "      <td>50.000000</td>\n",
       "    </tr>\n",
       "    <tr>\n",
       "      <th>mean</th>\n",
       "      <td>6.136000</td>\n",
       "      <td>4.132600</td>\n",
       "      <td>8.245600</td>\n",
       "    </tr>\n",
       "    <tr>\n",
       "      <th>std</th>\n",
       "      <td>0.730449</td>\n",
       "      <td>0.512703</td>\n",
       "      <td>1.016613</td>\n",
       "    </tr>\n",
       "    <tr>\n",
       "      <th>min</th>\n",
       "      <td>4.650000</td>\n",
       "      <td>2.960000</td>\n",
       "      <td>5.800000</td>\n",
       "    </tr>\n",
       "    <tr>\n",
       "      <th>25%</th>\n",
       "      <td>5.652500</td>\n",
       "      <td>3.735000</td>\n",
       "      <td>7.477500</td>\n",
       "    </tr>\n",
       "    <tr>\n",
       "      <th>50%</th>\n",
       "      <td>6.190000</td>\n",
       "      <td>4.135000</td>\n",
       "      <td>8.255000</td>\n",
       "    </tr>\n",
       "    <tr>\n",
       "      <th>75%</th>\n",
       "      <td>6.700000</td>\n",
       "      <td>4.492500</td>\n",
       "      <td>8.977500</td>\n",
       "    </tr>\n",
       "    <tr>\n",
       "      <th>max</th>\n",
       "      <td>7.740000</td>\n",
       "      <td>5.130000</td>\n",
       "      <td>10.150000</td>\n",
       "    </tr>\n",
       "  </tbody>\n",
       "</table>\n",
       "</div>"
      ],
      "text/plain": [
       "       pub-stats  sub-stats  overall-stats\n",
       "count  50.000000  50.000000      50.000000\n",
       "mean    6.136000   4.132600       8.245600\n",
       "std     0.730449   0.512703       1.016613\n",
       "min     4.650000   2.960000       5.800000\n",
       "25%     5.652500   3.735000       7.477500\n",
       "50%     6.190000   4.135000       8.255000\n",
       "75%     6.700000   4.492500       8.977500\n",
       "max     7.740000   5.130000      10.150000"
      ]
     },
     "execution_count": 60,
     "metadata": {},
     "output_type": "execute_result"
    }
   ],
   "source": [
    "# describe datasets\n",
    "dfA.describe()"
   ]
  },
  {
   "cell_type": "code",
   "execution_count": 61,
   "metadata": {},
   "outputs": [],
   "source": [
    "# using a function for hypothesis testing logic\n",
    "# which gets two columns data to compare\n",
    "def hypo_test(groupA, groupB):\n",
    "    # get mean values\n",
    "    mean_a = groupA.mean()\n",
    "    mean_b = groupB.mean()\n",
    "    \n",
    "    t_statistic, p_value = ttest_ind(groupA, groupB, equal_var=True, permutations=PERMUTATION_VALUE)\n",
    "    \n",
    "    print(f\"\\tmean of `{GROUP_A}`: {mean_a}\")\n",
    "    print(f\"\\tmean of `{GROUP_B}`: {mean_b}\")\n",
    "    print(f\"\\tt-statistic: {t_statistic}\")\n",
    "    print(f\"\\tp-value: {p_value}\")\n",
    "    \n",
    "    if p_value < P_VALUE_BOUND:\n",
    "        print(\"the difference is statistically significant at 95% confidence level.\")\n",
    "        if mean_a > mean_b:\n",
    "            print(f\"`{GROUP_A}` is better by {100 * float((mean_a-mean_b)/mean_a)}%.\")\n",
    "        else:\n",
    "            print(f\"`{GROUP_B}` is better by {100 * float((mean_b-mean_a)/mean_b)}%.\")\n",
    "    else:\n",
    "        print(\"the difference is not statistically significant at 95% confidence level.\")"
   ]
  },
  {
   "cell_type": "code",
   "execution_count": 62,
   "metadata": {},
   "outputs": [],
   "source": [
    "# defining dataset columns\n",
    "columns = [\"pub-stats\", \"sub-stats\", \"overall-stats\"]"
   ]
  },
  {
   "cell_type": "code",
   "execution_count": 63,
   "metadata": {},
   "outputs": [
    {
     "name": "stdout",
     "output_type": "stream",
     "text": [
      "\n",
      "testing `pub-stats` field:\n",
      "\tmean of `ddup-5.csv`: 6.136\n",
      "\tmean of `nddup-5.csv`: 8.745000000000001\n",
      "\tt-statistic: -12.591037962174664\n",
      "\tp-value: 0.0\n",
      "the difference is statistically significant at 95% confidence level.\n",
      "`nddup-5.csv` is better by 29.834190966266444%.\n",
      "\n",
      "testing `sub-stats` field:\n",
      "\tmean of `ddup-5.csv`: 4.1326\n",
      "\tmean of `nddup-5.csv`: 4.933\n",
      "\tt-statistic: -7.761687469683483\n",
      "\tp-value: 0.0\n",
      "the difference is statistically significant at 95% confidence level.\n",
      "`nddup-5.csv` is better by 16.225420636529492%.\n",
      "\n",
      "testing `overall-stats` field:\n",
      "\tmean of `ddup-5.csv`: 8.245600000000001\n",
      "\tmean of `nddup-5.csv`: 9.866800000000001\n",
      "\tt-statistic: -7.8919422404358075\n",
      "\tp-value: 0.0\n",
      "the difference is statistically significant at 95% confidence level.\n",
      "`nddup-5.csv` is better by 16.43085904244537%.\n"
     ]
    }
   ],
   "source": [
    "#  hypothesis for comparing two groups\n",
    "for column in columns:\n",
    "    print(f\"\\ntesting `{column}` field:\")\n",
    "    hypo_test(dfA[column], dfB[column])"
   ]
  }
 ],
 "metadata": {
  "kernelspec": {
   "display_name": "Python 3",
   "language": "python",
   "name": "python3"
  },
  "language_info": {
   "codemirror_mode": {
    "name": "ipython",
    "version": 3
   },
   "file_extension": ".py",
   "mimetype": "text/x-python",
   "name": "python",
   "nbconvert_exporter": "python",
   "pygments_lexer": "ipython3",
   "version": "3.10.0"
  }
 },
 "nbformat": 4,
 "nbformat_minor": 2
}
